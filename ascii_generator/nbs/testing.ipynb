{
 "cells": [
  {
   "cell_type": "code",
   "execution_count": 6,
   "id": "3fdc6876",
   "metadata": {},
   "outputs": [],
   "source": [
    "from PIL import Image\n",
    "import os\n",
    "\n",
    "os.chdir(\"../\")"
   ]
  },
  {
   "cell_type": "code",
   "execution_count": 13,
   "id": "a9ba0ccf",
   "metadata": {},
   "outputs": [
    {
     "data": {
      "text/plain": [
       "'/home/diogor/github/project-based-learning/ascii_generator'"
      ]
     },
     "execution_count": 13,
     "metadata": {},
     "output_type": "execute_result"
    }
   ],
   "source": [
    "os.getcwd()"
   ]
  },
  {
   "cell_type": "code",
   "execution_count": 17,
   "id": "97082221",
   "metadata": {},
   "outputs": [],
   "source": [
    "img_dir = \"imgs/\"\n",
    "img_name = \"ascii-pineapple.jpg\""
   ]
  },
  {
   "cell_type": "code",
   "execution_count": 18,
   "id": "54b5a4f9",
   "metadata": {},
   "outputs": [],
   "source": [
    "image = Image.open(img_dir + img_name)"
   ]
  },
  {
   "cell_type": "code",
   "execution_count": 22,
   "id": "c064d6ec",
   "metadata": {},
   "outputs": [
    {
     "data": {
      "text/plain": [
       "(700, 467)"
      ]
     },
     "execution_count": 22,
     "metadata": {},
     "output_type": "execute_result"
    }
   ],
   "source": [
    "image.size"
   ]
  }
 ],
 "metadata": {
  "kernelspec": {
   "display_name": ".venv",
   "language": "python",
   "name": "python3"
  },
  "language_info": {
   "codemirror_mode": {
    "name": "ipython",
    "version": 3
   },
   "file_extension": ".py",
   "mimetype": "text/x-python",
   "name": "python",
   "nbconvert_exporter": "python",
   "pygments_lexer": "ipython3",
   "version": "3.11.12"
  }
 },
 "nbformat": 4,
 "nbformat_minor": 5
}
